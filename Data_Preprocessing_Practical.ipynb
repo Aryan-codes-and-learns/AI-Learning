{
 "cells": [
  {
   "cell_type": "code",
   "execution_count": 1,
   "id": "731393e2-911f-43e6-b4b6-d190476aee1a",
   "metadata": {},
   "outputs": [],
   "source": [
    "import re\n",
    "import nltk\n",
    "from nltk.tokenize import word_tokenize\n",
    "from nltk.stem import PorterStemmer, WordNetLemmatizer\n",
    "from nltk.corpus import stopwords\n",
    "import pandas as pd"
   ]
  },
  {
   "cell_type": "code",
   "execution_count": 2,
   "id": "87392b80-f72c-4beb-b3ac-0500a0642d5d",
   "metadata": {},
   "outputs": [],
   "source": [
    "data = pd.read_csv(\"tripadvisor_hotel_reviews.csv\")"
   ]
  },
  {
   "cell_type": "code",
   "execution_count": 3,
   "id": "a43f4d0b-1157-4ce9-a7a1-c563e0459abd",
   "metadata": {},
   "outputs": [
    {
     "name": "stdout",
     "output_type": "stream",
     "text": [
      "                                              Review  Rating\n",
      "0  nice hotel expensive parking got good deal sta...       4\n",
      "1  ok nothing special charge diamond member hilto...       2\n",
      "2  nice rooms not 4* experience hotel monaco seat...       3\n",
      "3  unique, great stay, wonderful time hotel monac...       5\n",
      "4  great stay great stay, went seahawk game aweso...       5\n"
     ]
    }
   ],
   "source": [
    "print(data.head())"
   ]
  },
  {
   "cell_type": "code",
   "execution_count": 4,
   "id": "d6448513-a096-4c97-a971-e3b8e812eb29",
   "metadata": {},
   "outputs": [],
   "source": [
    "# Making everything lowercase\n",
    "data['review_lowercase'] = data['Review'].str.lower()"
   ]
  },
  {
   "cell_type": "code",
   "execution_count": 5,
   "id": "6db877e0-5ce0-468f-b7fb-55cfacd06c9e",
   "metadata": {},
   "outputs": [],
   "source": [
    "stopwords = stopwords.words('english')"
   ]
  },
  {
   "cell_type": "code",
   "execution_count": 6,
   "id": "724813f4-9b25-4295-8d72-f86b49e6469f",
   "metadata": {},
   "outputs": [],
   "source": [
    "# removing the word \"not\" from the list of stopwords\n",
    "stopwords.remove(\"not\")"
   ]
  },
  {
   "cell_type": "code",
   "execution_count": 7,
   "id": "b7d7a11c-f223-427f-bb3a-b7f0e92608b3",
   "metadata": {},
   "outputs": [],
   "source": [
    "# Creates a new column which contains the reviews but without the useless words.\n",
    "data['review_no_stopwords'] = data['review_lowercase'].apply(lambda x: ' '.join([word for word in x.split() if word not in stopwords]))"
   ]
  },
  {
   "cell_type": "code",
   "execution_count": 8,
   "id": "9a5784bd-cec8-4938-9420-2c7baa5b3e4f",
   "metadata": {},
   "outputs": [
    {
     "name": "stdout",
     "output_type": "stream",
     "text": [
      "nice hotel expensive parking got good deal stay hotel anniversary, arrived late evening took advice previous reviews valet parking, check quick easy, little disappointed non-existent view room room clean nice size, bed comfortable woke stiff neck high pillows, not soundproof like heard music room night morning loud bangs doors opening closing hear people talking hallway, maybe noisy neighbors, aveda bath products nice, not goldfish stay nice touch taken advantage staying longer, location great walking distance shopping, overall nice experience pay 40 parking night,\n"
     ]
    }
   ],
   "source": [
    "print(data['review_no_stopwords'][0])"
   ]
  },
  {
   "cell_type": "code",
   "execution_count": 24,
   "id": "fc0c6d73-8acd-4a23-85cb-c85c51322ba9",
   "metadata": {},
   "outputs": [],
   "source": [
    "#  changes the '*\" to \"star\" in reviews which may say \"4* hotel\" (4 star hotel).\n",
    "# Doing this to make the code simpler\n",
    "data['review_no_stopwords_no_punct'] = data.apply(lambda x: re.sub(r\"[*]\", \"star\", x['review_no_stopwords']), axis=1)"
   ]
  },
  {
   "cell_type": "code",
   "execution_count": 10,
   "id": "50b7f06f-d822-4bc2-b321-dd26b4c669b9",
   "metadata": {},
   "outputs": [
    {
     "data": {
      "text/html": [
       "<div>\n",
       "<style scoped>\n",
       "    .dataframe tbody tr th:only-of-type {\n",
       "        vertical-align: middle;\n",
       "    }\n",
       "\n",
       "    .dataframe tbody tr th {\n",
       "        vertical-align: top;\n",
       "    }\n",
       "\n",
       "    .dataframe thead th {\n",
       "        text-align: right;\n",
       "    }\n",
       "</style>\n",
       "<table border=\"1\" class=\"dataframe\">\n",
       "  <thead>\n",
       "    <tr style=\"text-align: right;\">\n",
       "      <th></th>\n",
       "      <th>Review</th>\n",
       "      <th>Rating</th>\n",
       "      <th>review_lowercase</th>\n",
       "      <th>review_no_stopwords</th>\n",
       "      <th>review_no_stopwords_no_punct</th>\n",
       "    </tr>\n",
       "  </thead>\n",
       "  <tbody>\n",
       "    <tr>\n",
       "      <th>0</th>\n",
       "      <td>nice hotel expensive parking got good deal sta...</td>\n",
       "      <td>4</td>\n",
       "      <td>nice hotel expensive parking got good deal sta...</td>\n",
       "      <td>nice hotel expensive parking got good deal sta...</td>\n",
       "      <td>nice hotel expensive parking got good deal sta...</td>\n",
       "    </tr>\n",
       "    <tr>\n",
       "      <th>1</th>\n",
       "      <td>ok nothing special charge diamond member hilto...</td>\n",
       "      <td>2</td>\n",
       "      <td>ok nothing special charge diamond member hilto...</td>\n",
       "      <td>ok nothing special charge diamond member hilto...</td>\n",
       "      <td>ok nothing special charge diamond member hilto...</td>\n",
       "    </tr>\n",
       "    <tr>\n",
       "      <th>2</th>\n",
       "      <td>nice rooms not 4* experience hotel monaco seat...</td>\n",
       "      <td>3</td>\n",
       "      <td>nice rooms not 4* experience hotel monaco seat...</td>\n",
       "      <td>nice rooms not 4* experience hotel monaco seat...</td>\n",
       "      <td>nice rooms not 4star experience hotel monaco s...</td>\n",
       "    </tr>\n",
       "    <tr>\n",
       "      <th>3</th>\n",
       "      <td>unique, great stay, wonderful time hotel monac...</td>\n",
       "      <td>5</td>\n",
       "      <td>unique, great stay, wonderful time hotel monac...</td>\n",
       "      <td>unique, great stay, wonderful time hotel monac...</td>\n",
       "      <td>unique, great stay, wonderful time hotel monac...</td>\n",
       "    </tr>\n",
       "    <tr>\n",
       "      <th>4</th>\n",
       "      <td>great stay great stay, went seahawk game aweso...</td>\n",
       "      <td>5</td>\n",
       "      <td>great stay great stay, went seahawk game aweso...</td>\n",
       "      <td>great stay great stay, went seahawk game aweso...</td>\n",
       "      <td>great stay great stay, went seahawk game aweso...</td>\n",
       "    </tr>\n",
       "  </tbody>\n",
       "</table>\n",
       "</div>"
      ],
      "text/plain": [
       "                                              Review  Rating  \\\n",
       "0  nice hotel expensive parking got good deal sta...       4   \n",
       "1  ok nothing special charge diamond member hilto...       2   \n",
       "2  nice rooms not 4* experience hotel monaco seat...       3   \n",
       "3  unique, great stay, wonderful time hotel monac...       5   \n",
       "4  great stay great stay, went seahawk game aweso...       5   \n",
       "\n",
       "                                    review_lowercase  \\\n",
       "0  nice hotel expensive parking got good deal sta...   \n",
       "1  ok nothing special charge diamond member hilto...   \n",
       "2  nice rooms not 4* experience hotel monaco seat...   \n",
       "3  unique, great stay, wonderful time hotel monac...   \n",
       "4  great stay great stay, went seahawk game aweso...   \n",
       "\n",
       "                                 review_no_stopwords  \\\n",
       "0  nice hotel expensive parking got good deal sta...   \n",
       "1  ok nothing special charge diamond member hilto...   \n",
       "2  nice rooms not 4* experience hotel monaco seat...   \n",
       "3  unique, great stay, wonderful time hotel monac...   \n",
       "4  great stay great stay, went seahawk game aweso...   \n",
       "\n",
       "                        review_no_stopwords_no_punct  \n",
       "0  nice hotel expensive parking got good deal sta...  \n",
       "1  ok nothing special charge diamond member hilto...  \n",
       "2  nice rooms not 4star experience hotel monaco s...  \n",
       "3  unique, great stay, wonderful time hotel monac...  \n",
       "4  great stay great stay, went seahawk game aweso...  "
      ]
     },
     "execution_count": 10,
     "metadata": {},
     "output_type": "execute_result"
    }
   ],
   "source": [
    "data.head()"
   ]
  },
  {
   "cell_type": "code",
   "execution_count": 25,
   "id": "4702f7ac-57fa-43a6-8775-8b635719b2b6",
   "metadata": {},
   "outputs": [],
   "source": [
    "# Removes any punctuations from the latest column and puts the cleaner text in a new column.\n",
    "data['review_no_stopwords_no_punct'] = data.apply(lambda x: re.sub(r\"[^\\w\\s]\", \"\", x['review_no_stopwords_no_punct']), axis=1)"
   ]
  },
  {
   "cell_type": "code",
   "execution_count": 12,
   "id": "f5835b18-b9e7-4807-8606-0719bfcf07db",
   "metadata": {},
   "outputs": [
    {
     "data": {
      "text/html": [
       "<div>\n",
       "<style scoped>\n",
       "    .dataframe tbody tr th:only-of-type {\n",
       "        vertical-align: middle;\n",
       "    }\n",
       "\n",
       "    .dataframe tbody tr th {\n",
       "        vertical-align: top;\n",
       "    }\n",
       "\n",
       "    .dataframe thead th {\n",
       "        text-align: right;\n",
       "    }\n",
       "</style>\n",
       "<table border=\"1\" class=\"dataframe\">\n",
       "  <thead>\n",
       "    <tr style=\"text-align: right;\">\n",
       "      <th></th>\n",
       "      <th>Review</th>\n",
       "      <th>Rating</th>\n",
       "      <th>review_lowercase</th>\n",
       "      <th>review_no_stopwords</th>\n",
       "      <th>review_no_stopwords_no_punct</th>\n",
       "    </tr>\n",
       "  </thead>\n",
       "  <tbody>\n",
       "    <tr>\n",
       "      <th>0</th>\n",
       "      <td>nice hotel expensive parking got good deal sta...</td>\n",
       "      <td>4</td>\n",
       "      <td>nice hotel expensive parking got good deal sta...</td>\n",
       "      <td>nice hotel expensive parking got good deal sta...</td>\n",
       "      <td>nice hotel expensive parking got good deal sta...</td>\n",
       "    </tr>\n",
       "    <tr>\n",
       "      <th>1</th>\n",
       "      <td>ok nothing special charge diamond member hilto...</td>\n",
       "      <td>2</td>\n",
       "      <td>ok nothing special charge diamond member hilto...</td>\n",
       "      <td>ok nothing special charge diamond member hilto...</td>\n",
       "      <td>ok nothing special charge diamond member hilto...</td>\n",
       "    </tr>\n",
       "    <tr>\n",
       "      <th>2</th>\n",
       "      <td>nice rooms not 4* experience hotel monaco seat...</td>\n",
       "      <td>3</td>\n",
       "      <td>nice rooms not 4* experience hotel monaco seat...</td>\n",
       "      <td>nice rooms not 4* experience hotel monaco seat...</td>\n",
       "      <td>nice rooms not 4star experience hotel monaco s...</td>\n",
       "    </tr>\n",
       "    <tr>\n",
       "      <th>3</th>\n",
       "      <td>unique, great stay, wonderful time hotel monac...</td>\n",
       "      <td>5</td>\n",
       "      <td>unique, great stay, wonderful time hotel monac...</td>\n",
       "      <td>unique, great stay, wonderful time hotel monac...</td>\n",
       "      <td>unique great stay wonderful time hotel monaco ...</td>\n",
       "    </tr>\n",
       "    <tr>\n",
       "      <th>4</th>\n",
       "      <td>great stay great stay, went seahawk game aweso...</td>\n",
       "      <td>5</td>\n",
       "      <td>great stay great stay, went seahawk game aweso...</td>\n",
       "      <td>great stay great stay, went seahawk game aweso...</td>\n",
       "      <td>great stay great stay went seahawk game awesom...</td>\n",
       "    </tr>\n",
       "  </tbody>\n",
       "</table>\n",
       "</div>"
      ],
      "text/plain": [
       "                                              Review  Rating  \\\n",
       "0  nice hotel expensive parking got good deal sta...       4   \n",
       "1  ok nothing special charge diamond member hilto...       2   \n",
       "2  nice rooms not 4* experience hotel monaco seat...       3   \n",
       "3  unique, great stay, wonderful time hotel monac...       5   \n",
       "4  great stay great stay, went seahawk game aweso...       5   \n",
       "\n",
       "                                    review_lowercase  \\\n",
       "0  nice hotel expensive parking got good deal sta...   \n",
       "1  ok nothing special charge diamond member hilto...   \n",
       "2  nice rooms not 4* experience hotel monaco seat...   \n",
       "3  unique, great stay, wonderful time hotel monac...   \n",
       "4  great stay great stay, went seahawk game aweso...   \n",
       "\n",
       "                                 review_no_stopwords  \\\n",
       "0  nice hotel expensive parking got good deal sta...   \n",
       "1  ok nothing special charge diamond member hilto...   \n",
       "2  nice rooms not 4* experience hotel monaco seat...   \n",
       "3  unique, great stay, wonderful time hotel monac...   \n",
       "4  great stay great stay, went seahawk game aweso...   \n",
       "\n",
       "                        review_no_stopwords_no_punct  \n",
       "0  nice hotel expensive parking got good deal sta...  \n",
       "1  ok nothing special charge diamond member hilto...  \n",
       "2  nice rooms not 4star experience hotel monaco s...  \n",
       "3  unique great stay wonderful time hotel monaco ...  \n",
       "4  great stay great stay went seahawk game awesom...  "
      ]
     },
     "execution_count": 12,
     "metadata": {},
     "output_type": "execute_result"
    }
   ],
   "source": [
    "data.head()"
   ]
  },
  {
   "cell_type": "code",
   "execution_count": 26,
   "id": "04bdfd34-790d-42a9-b198-1efe3ff45843",
   "metadata": {},
   "outputs": [],
   "source": [
    "# creates a new column with the reviews tokenized.\n",
    "data['tokenized'] = data.apply(lambda x: word_tokenize(x['review_no_stopwords_no_punct']), axis=1)"
   ]
  },
  {
   "cell_type": "code",
   "execution_count": 14,
   "id": "8df00123-37d1-4586-97d4-ce0ced8b2ebe",
   "metadata": {},
   "outputs": [],
   "source": [
    "ps = PorterStemmer()"
   ]
  },
  {
   "cell_type": "code",
   "execution_count": 28,
   "id": "6936aaad-a7db-43b5-a27c-ed4bb2c8b914",
   "metadata": {},
   "outputs": [],
   "source": [
    "# creates a new column with the reviews stemmed.\n",
    "data['stemmed'] = data['tokenized'].apply(lambda tokens: [ps.stem(token) for token in tokens])"
   ]
  },
  {
   "cell_type": "code",
   "execution_count": 16,
   "id": "e3fd8edd-8a29-4b2c-ac2b-52027c95ddb3",
   "metadata": {},
   "outputs": [
    {
     "data": {
      "text/html": [
       "<div>\n",
       "<style scoped>\n",
       "    .dataframe tbody tr th:only-of-type {\n",
       "        vertical-align: middle;\n",
       "    }\n",
       "\n",
       "    .dataframe tbody tr th {\n",
       "        vertical-align: top;\n",
       "    }\n",
       "\n",
       "    .dataframe thead th {\n",
       "        text-align: right;\n",
       "    }\n",
       "</style>\n",
       "<table border=\"1\" class=\"dataframe\">\n",
       "  <thead>\n",
       "    <tr style=\"text-align: right;\">\n",
       "      <th></th>\n",
       "      <th>Review</th>\n",
       "      <th>Rating</th>\n",
       "      <th>review_lowercase</th>\n",
       "      <th>review_no_stopwords</th>\n",
       "      <th>review_no_stopwords_no_punct</th>\n",
       "      <th>tokenized</th>\n",
       "      <th>stemmed</th>\n",
       "    </tr>\n",
       "  </thead>\n",
       "  <tbody>\n",
       "    <tr>\n",
       "      <th>0</th>\n",
       "      <td>nice hotel expensive parking got good deal sta...</td>\n",
       "      <td>4</td>\n",
       "      <td>nice hotel expensive parking got good deal sta...</td>\n",
       "      <td>nice hotel expensive parking got good deal sta...</td>\n",
       "      <td>nice hotel expensive parking got good deal sta...</td>\n",
       "      <td>[nice, hotel, expensive, parking, got, good, d...</td>\n",
       "      <td>[nice, hotel, expens, park, got, good, deal, s...</td>\n",
       "    </tr>\n",
       "    <tr>\n",
       "      <th>1</th>\n",
       "      <td>ok nothing special charge diamond member hilto...</td>\n",
       "      <td>2</td>\n",
       "      <td>ok nothing special charge diamond member hilto...</td>\n",
       "      <td>ok nothing special charge diamond member hilto...</td>\n",
       "      <td>ok nothing special charge diamond member hilto...</td>\n",
       "      <td>[ok, nothing, special, charge, diamond, member...</td>\n",
       "      <td>[ok, noth, special, charg, diamond, member, hi...</td>\n",
       "    </tr>\n",
       "    <tr>\n",
       "      <th>2</th>\n",
       "      <td>nice rooms not 4* experience hotel monaco seat...</td>\n",
       "      <td>3</td>\n",
       "      <td>nice rooms not 4* experience hotel monaco seat...</td>\n",
       "      <td>nice rooms not 4* experience hotel monaco seat...</td>\n",
       "      <td>nice rooms not 4star experience hotel monaco s...</td>\n",
       "      <td>[nice, rooms, not, 4star, experience, hotel, m...</td>\n",
       "      <td>[nice, room, not, 4star, experi, hotel, monaco...</td>\n",
       "    </tr>\n",
       "    <tr>\n",
       "      <th>3</th>\n",
       "      <td>unique, great stay, wonderful time hotel monac...</td>\n",
       "      <td>5</td>\n",
       "      <td>unique, great stay, wonderful time hotel monac...</td>\n",
       "      <td>unique, great stay, wonderful time hotel monac...</td>\n",
       "      <td>unique great stay wonderful time hotel monaco ...</td>\n",
       "      <td>[unique, great, stay, wonderful, time, hotel, ...</td>\n",
       "      <td>[uniqu, great, stay, wonder, time, hotel, mona...</td>\n",
       "    </tr>\n",
       "    <tr>\n",
       "      <th>4</th>\n",
       "      <td>great stay great stay, went seahawk game aweso...</td>\n",
       "      <td>5</td>\n",
       "      <td>great stay great stay, went seahawk game aweso...</td>\n",
       "      <td>great stay great stay, went seahawk game aweso...</td>\n",
       "      <td>great stay great stay went seahawk game awesom...</td>\n",
       "      <td>[great, stay, great, stay, went, seahawk, game...</td>\n",
       "      <td>[great, stay, great, stay, went, seahawk, game...</td>\n",
       "    </tr>\n",
       "  </tbody>\n",
       "</table>\n",
       "</div>"
      ],
      "text/plain": [
       "                                              Review  Rating  \\\n",
       "0  nice hotel expensive parking got good deal sta...       4   \n",
       "1  ok nothing special charge diamond member hilto...       2   \n",
       "2  nice rooms not 4* experience hotel monaco seat...       3   \n",
       "3  unique, great stay, wonderful time hotel monac...       5   \n",
       "4  great stay great stay, went seahawk game aweso...       5   \n",
       "\n",
       "                                    review_lowercase  \\\n",
       "0  nice hotel expensive parking got good deal sta...   \n",
       "1  ok nothing special charge diamond member hilto...   \n",
       "2  nice rooms not 4* experience hotel monaco seat...   \n",
       "3  unique, great stay, wonderful time hotel monac...   \n",
       "4  great stay great stay, went seahawk game aweso...   \n",
       "\n",
       "                                 review_no_stopwords  \\\n",
       "0  nice hotel expensive parking got good deal sta...   \n",
       "1  ok nothing special charge diamond member hilto...   \n",
       "2  nice rooms not 4* experience hotel monaco seat...   \n",
       "3  unique, great stay, wonderful time hotel monac...   \n",
       "4  great stay great stay, went seahawk game aweso...   \n",
       "\n",
       "                        review_no_stopwords_no_punct  \\\n",
       "0  nice hotel expensive parking got good deal sta...   \n",
       "1  ok nothing special charge diamond member hilto...   \n",
       "2  nice rooms not 4star experience hotel monaco s...   \n",
       "3  unique great stay wonderful time hotel monaco ...   \n",
       "4  great stay great stay went seahawk game awesom...   \n",
       "\n",
       "                                           tokenized  \\\n",
       "0  [nice, hotel, expensive, parking, got, good, d...   \n",
       "1  [ok, nothing, special, charge, diamond, member...   \n",
       "2  [nice, rooms, not, 4star, experience, hotel, m...   \n",
       "3  [unique, great, stay, wonderful, time, hotel, ...   \n",
       "4  [great, stay, great, stay, went, seahawk, game...   \n",
       "\n",
       "                                             stemmed  \n",
       "0  [nice, hotel, expens, park, got, good, deal, s...  \n",
       "1  [ok, noth, special, charg, diamond, member, hi...  \n",
       "2  [nice, room, not, 4star, experi, hotel, monaco...  \n",
       "3  [uniqu, great, stay, wonder, time, hotel, mona...  \n",
       "4  [great, stay, great, stay, went, seahawk, game...  "
      ]
     },
     "execution_count": 16,
     "metadata": {},
     "output_type": "execute_result"
    }
   ],
   "source": [
    "data.head()"
   ]
  },
  {
   "cell_type": "code",
   "execution_count": 17,
   "id": "463ed215-4117-4164-b9cb-5bf6be4ce63d",
   "metadata": {},
   "outputs": [],
   "source": [
    "lemmatizer = WordNetLemmatizer()"
   ]
  },
  {
   "cell_type": "code",
   "execution_count": 29,
   "id": "1cfe346a-0d11-4c26-968c-92faa7934b08",
   "metadata": {},
   "outputs": [],
   "source": [
    "# Creates a new column with the reviews lemmatized, (doesnt really make a significant difference but good for practice)\n",
    "data['lemmatized'] = data['tokenized'].apply(lambda tokens: [lemmatizer.lemmatize(token) for token in tokens])"
   ]
  },
  {
   "cell_type": "code",
   "execution_count": 19,
   "id": "c0b0d5f7-b7b0-4146-acc9-4b9f5ae9440c",
   "metadata": {},
   "outputs": [
    {
     "data": {
      "text/html": [
       "<div>\n",
       "<style scoped>\n",
       "    .dataframe tbody tr th:only-of-type {\n",
       "        vertical-align: middle;\n",
       "    }\n",
       "\n",
       "    .dataframe tbody tr th {\n",
       "        vertical-align: top;\n",
       "    }\n",
       "\n",
       "    .dataframe thead th {\n",
       "        text-align: right;\n",
       "    }\n",
       "</style>\n",
       "<table border=\"1\" class=\"dataframe\">\n",
       "  <thead>\n",
       "    <tr style=\"text-align: right;\">\n",
       "      <th></th>\n",
       "      <th>Review</th>\n",
       "      <th>Rating</th>\n",
       "      <th>review_lowercase</th>\n",
       "      <th>review_no_stopwords</th>\n",
       "      <th>review_no_stopwords_no_punct</th>\n",
       "      <th>tokenized</th>\n",
       "      <th>stemmed</th>\n",
       "      <th>lemmatized</th>\n",
       "    </tr>\n",
       "  </thead>\n",
       "  <tbody>\n",
       "    <tr>\n",
       "      <th>0</th>\n",
       "      <td>nice hotel expensive parking got good deal sta...</td>\n",
       "      <td>4</td>\n",
       "      <td>nice hotel expensive parking got good deal sta...</td>\n",
       "      <td>nice hotel expensive parking got good deal sta...</td>\n",
       "      <td>nice hotel expensive parking got good deal sta...</td>\n",
       "      <td>[nice, hotel, expensive, parking, got, good, d...</td>\n",
       "      <td>[nice, hotel, expens, park, got, good, deal, s...</td>\n",
       "      <td>[nice, hotel, expensive, parking, got, good, d...</td>\n",
       "    </tr>\n",
       "    <tr>\n",
       "      <th>1</th>\n",
       "      <td>ok nothing special charge diamond member hilto...</td>\n",
       "      <td>2</td>\n",
       "      <td>ok nothing special charge diamond member hilto...</td>\n",
       "      <td>ok nothing special charge diamond member hilto...</td>\n",
       "      <td>ok nothing special charge diamond member hilto...</td>\n",
       "      <td>[ok, nothing, special, charge, diamond, member...</td>\n",
       "      <td>[ok, noth, special, charg, diamond, member, hi...</td>\n",
       "      <td>[ok, nothing, special, charge, diamond, member...</td>\n",
       "    </tr>\n",
       "    <tr>\n",
       "      <th>2</th>\n",
       "      <td>nice rooms not 4* experience hotel monaco seat...</td>\n",
       "      <td>3</td>\n",
       "      <td>nice rooms not 4* experience hotel monaco seat...</td>\n",
       "      <td>nice rooms not 4* experience hotel monaco seat...</td>\n",
       "      <td>nice rooms not 4star experience hotel monaco s...</td>\n",
       "      <td>[nice, rooms, not, 4star, experience, hotel, m...</td>\n",
       "      <td>[nice, room, not, 4star, experi, hotel, monaco...</td>\n",
       "      <td>[nice, room, not, 4star, experience, hotel, mo...</td>\n",
       "    </tr>\n",
       "    <tr>\n",
       "      <th>3</th>\n",
       "      <td>unique, great stay, wonderful time hotel monac...</td>\n",
       "      <td>5</td>\n",
       "      <td>unique, great stay, wonderful time hotel monac...</td>\n",
       "      <td>unique, great stay, wonderful time hotel monac...</td>\n",
       "      <td>unique great stay wonderful time hotel monaco ...</td>\n",
       "      <td>[unique, great, stay, wonderful, time, hotel, ...</td>\n",
       "      <td>[uniqu, great, stay, wonder, time, hotel, mona...</td>\n",
       "      <td>[unique, great, stay, wonderful, time, hotel, ...</td>\n",
       "    </tr>\n",
       "    <tr>\n",
       "      <th>4</th>\n",
       "      <td>great stay great stay, went seahawk game aweso...</td>\n",
       "      <td>5</td>\n",
       "      <td>great stay great stay, went seahawk game aweso...</td>\n",
       "      <td>great stay great stay, went seahawk game aweso...</td>\n",
       "      <td>great stay great stay went seahawk game awesom...</td>\n",
       "      <td>[great, stay, great, stay, went, seahawk, game...</td>\n",
       "      <td>[great, stay, great, stay, went, seahawk, game...</td>\n",
       "      <td>[great, stay, great, stay, went, seahawk, game...</td>\n",
       "    </tr>\n",
       "  </tbody>\n",
       "</table>\n",
       "</div>"
      ],
      "text/plain": [
       "                                              Review  Rating  \\\n",
       "0  nice hotel expensive parking got good deal sta...       4   \n",
       "1  ok nothing special charge diamond member hilto...       2   \n",
       "2  nice rooms not 4* experience hotel monaco seat...       3   \n",
       "3  unique, great stay, wonderful time hotel monac...       5   \n",
       "4  great stay great stay, went seahawk game aweso...       5   \n",
       "\n",
       "                                    review_lowercase  \\\n",
       "0  nice hotel expensive parking got good deal sta...   \n",
       "1  ok nothing special charge diamond member hilto...   \n",
       "2  nice rooms not 4* experience hotel monaco seat...   \n",
       "3  unique, great stay, wonderful time hotel monac...   \n",
       "4  great stay great stay, went seahawk game aweso...   \n",
       "\n",
       "                                 review_no_stopwords  \\\n",
       "0  nice hotel expensive parking got good deal sta...   \n",
       "1  ok nothing special charge diamond member hilto...   \n",
       "2  nice rooms not 4* experience hotel monaco seat...   \n",
       "3  unique, great stay, wonderful time hotel monac...   \n",
       "4  great stay great stay, went seahawk game aweso...   \n",
       "\n",
       "                        review_no_stopwords_no_punct  \\\n",
       "0  nice hotel expensive parking got good deal sta...   \n",
       "1  ok nothing special charge diamond member hilto...   \n",
       "2  nice rooms not 4star experience hotel monaco s...   \n",
       "3  unique great stay wonderful time hotel monaco ...   \n",
       "4  great stay great stay went seahawk game awesom...   \n",
       "\n",
       "                                           tokenized  \\\n",
       "0  [nice, hotel, expensive, parking, got, good, d...   \n",
       "1  [ok, nothing, special, charge, diamond, member...   \n",
       "2  [nice, rooms, not, 4star, experience, hotel, m...   \n",
       "3  [unique, great, stay, wonderful, time, hotel, ...   \n",
       "4  [great, stay, great, stay, went, seahawk, game...   \n",
       "\n",
       "                                             stemmed  \\\n",
       "0  [nice, hotel, expens, park, got, good, deal, s...   \n",
       "1  [ok, noth, special, charg, diamond, member, hi...   \n",
       "2  [nice, room, not, 4star, experi, hotel, monaco...   \n",
       "3  [uniqu, great, stay, wonder, time, hotel, mona...   \n",
       "4  [great, stay, great, stay, went, seahawk, game...   \n",
       "\n",
       "                                          lemmatized  \n",
       "0  [nice, hotel, expensive, parking, got, good, d...  \n",
       "1  [ok, nothing, special, charge, diamond, member...  \n",
       "2  [nice, room, not, 4star, experience, hotel, mo...  \n",
       "3  [unique, great, stay, wonderful, time, hotel, ...  \n",
       "4  [great, stay, great, stay, went, seahawk, game...  "
      ]
     },
     "execution_count": 19,
     "metadata": {},
     "output_type": "execute_result"
    }
   ],
   "source": [
    "data.head()"
   ]
  },
  {
   "cell_type": "code",
   "execution_count": 20,
   "id": "c280b151-08a6-45e0-aa81-444e82cb9953",
   "metadata": {},
   "outputs": [],
   "source": [
    "tokens_clean = sum(data['lemmatized'], [])"
   ]
  },
  {
   "cell_type": "code",
   "execution_count": 30,
   "id": "0d9457db-9a5f-42eb-aa94-e5be3c606cc0",
   "metadata": {},
   "outputs": [
    {
     "name": "stdout",
     "output_type": "stream",
     "text": [
      "(hotel,)           292\n",
      "(room,)            275\n",
      "(great,)           126\n",
      "(not,)             122\n",
      "(stay,)             95\n",
      "                  ... \n",
      "(175,)               1\n",
      "(smackagainst,)      1\n",
      "(2x,)                1\n",
      "(80,)                1\n",
      "(connected,)         1\n",
      "Name: count, Length: 2589, dtype: int64\n"
     ]
    }
   ],
   "source": [
    "# Observing the most common word in the entire data.\n",
    "unigrams = pd.Series(list(nltk.ngrams(tokens_clean, 1))).value_counts()\n",
    "print(unigrams)"
   ]
  },
  {
   "cell_type": "code",
   "execution_count": 37,
   "id": "854c3267-1641-4311-8f19-5f99d8f44298",
   "metadata": {},
   "outputs": [
    {
     "name": "stdout",
     "output_type": "stream",
     "text": [
      "(great, location)     24\n",
      "(space, needle)       21\n",
      "(hotel, monaco)       16\n",
      "(great, hotel)        12\n",
      "(staff, friendly)     12\n",
      "                      ..\n",
      "(didnt, make)          1\n",
      "(personnel, didnt)     1\n",
      "(minute, stay)         1\n",
      "(starting, minute)     1\n",
      "(food, raffle)         1\n",
      "Name: count, Length: 8263, dtype: int64\n"
     ]
    }
   ],
   "source": [
    "# Observing the most common sequence of 2 words in the entire data.\n",
    "bigrams = pd.Series(list(nltk.ngrams(tokens_clean, 2))).value_counts()\n",
    "print(bigrams)"
   ]
  },
  {
   "cell_type": "code",
   "execution_count": 36,
   "id": "3fb6e538-5aee-4e62-802e-242b1f399649",
   "metadata": {},
   "outputs": [
    {
     "name": "stdout",
     "output_type": "stream",
     "text": [
      "(pike, place, market)            8\n",
      "(view, space, needle)            5\n",
      "(hotel, great, location)         5\n",
      "(inn, queen, anne)               4\n",
      "(room, king, bed)                4\n",
      "                                ..\n",
      "(hotel, dissapointment, trip)    1\n",
      "(dissapointment, trip, 3)        1\n",
      "(trip, 3, night)                 1\n",
      "(3, night, stay)                 1\n",
      "(hotel, right, street)           1\n",
      "Name: count, Length: 9288, dtype: int64\n"
     ]
    }
   ],
   "source": [
    "# Observing the most common sequence of 3 words in the entire data.\n",
    "trigrams = pd.Series(list(nltk.ngrams(tokens_clean, 3))).value_counts()\n",
    "print(trigrams)"
   ]
  },
  {
   "cell_type": "code",
   "execution_count": null,
   "id": "064c80d3-c02f-4f60-8902-f318ac9a4852",
   "metadata": {},
   "outputs": [],
   "source": []
  }
 ],
 "metadata": {
  "kernelspec": {
   "display_name": "nlp_course_env",
   "language": "python",
   "name": "nlp_course_env"
  },
  "language_info": {
   "codemirror_mode": {
    "name": "ipython",
    "version": 3
   },
   "file_extension": ".py",
   "mimetype": "text/x-python",
   "name": "python",
   "nbconvert_exporter": "python",
   "pygments_lexer": "ipython3",
   "version": "3.11.13"
  }
 },
 "nbformat": 4,
 "nbformat_minor": 5
}
